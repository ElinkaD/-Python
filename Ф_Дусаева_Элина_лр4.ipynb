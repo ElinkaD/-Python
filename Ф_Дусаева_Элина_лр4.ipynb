{
  "nbformat": 4,
  "nbformat_minor": 0,
  "metadata": {
    "colab": {
      "provenance": []
    },
    "kernelspec": {
      "name": "python3",
      "display_name": "Python 3"
    },
    "language_info": {
      "name": "python"
    }
  },
  "cells": [
    {
      "cell_type": "code",
      "execution_count": null,
      "metadata": {
        "id": "IArxmb4V_whX"
      },
      "outputs": [],
      "source": [
        "#установка библиотеки и подключение всех необходимых библиотек\n",
        "import pandas as pd\n",
        "import numpy as np\n",
        "\n",
        "from sklearn.model_selection import train_test_split\n",
        "from sklearn.linear_model import LogisticRegression\n",
        "from sklearn.svm import LinearSVC\n",
        "from sklearn.tree import DecisionTreeClassifier\n",
        "from sklearn.ensemble import RandomForestClassifier\n",
        "from sklearn.neighbors import KNeighborsClassifier\n",
        "from sklearn.metrics import classification_report"
      ]
    },
    {
      "cell_type": "code",
      "source": [
        "#Взяла полученный список векторов векторизированный с помощью метода TF-IDF\n",
        "db = pd.read_csv('/content/TF-IDF.csv', sep = ',')\n",
        "db.head()"
      ],
      "metadata": {
        "colab": {
          "base_uri": "https://localhost:8080/",
          "height": 233
        },
        "id": "X18aL8mRAKPB",
        "outputId": "56378ad2-e243-4b3f-e06c-6ac2a3761d62"
      },
      "execution_count": null,
      "outputs": [
        {
          "output_type": "execute_result",
          "data": {
            "text/plain": [
              "    10   11   12   15   17   18   20   23   30   36  ...  яковливич  ялта  \\\n",
              "0  0.0  0.0  0.0  0.0  0.0  0.0  0.0  0.0  0.0  0.0  ...        0.0   0.0   \n",
              "1  0.0  0.0  0.0  0.0  0.0  0.0  0.0  0.0  0.0  0.0  ...        0.0   0.0   \n",
              "2  0.0  0.0  0.0  0.0  0.0  0.0  0.0  0.0  0.0  0.0  ...        0.0   0.0   \n",
              "3  0.0  0.0  0.0  0.0  0.0  0.0  0.0  0.0  0.0  0.0  ...        0.0   0.0   \n",
              "4  0.0  0.0  0.0  0.0  0.0  0.0  0.0  0.0  0.0  0.0  ...        0.0   0.0   \n",
              "\n",
              "   январь  яндекс  ярмарка  ясно  яхта  яхточка  ёлка  Sentiment digits  \n",
              "0     0.0     0.0      0.0   0.0   0.0      0.0   0.0                 0  \n",
              "1     0.0     0.0      0.0   0.0   0.0      0.0   0.0                 0  \n",
              "2     0.0     0.0      0.0   0.0   0.0      0.0   0.0                 0  \n",
              "3     0.0     0.0      0.0   0.0   0.0      0.0   0.0                 0  \n",
              "4     0.0     0.0      0.0   0.0   0.0      0.0   0.0                 0  \n",
              "\n",
              "[5 rows x 3127 columns]"
            ],
            "text/html": [
              "\n",
              "  <div id=\"df-a6cb3de4-7227-4f10-8333-ac16f2145da3\">\n",
              "    <div class=\"colab-df-container\">\n",
              "      <div>\n",
              "<style scoped>\n",
              "    .dataframe tbody tr th:only-of-type {\n",
              "        vertical-align: middle;\n",
              "    }\n",
              "\n",
              "    .dataframe tbody tr th {\n",
              "        vertical-align: top;\n",
              "    }\n",
              "\n",
              "    .dataframe thead th {\n",
              "        text-align: right;\n",
              "    }\n",
              "</style>\n",
              "<table border=\"1\" class=\"dataframe\">\n",
              "  <thead>\n",
              "    <tr style=\"text-align: right;\">\n",
              "      <th></th>\n",
              "      <th>10</th>\n",
              "      <th>11</th>\n",
              "      <th>12</th>\n",
              "      <th>15</th>\n",
              "      <th>17</th>\n",
              "      <th>18</th>\n",
              "      <th>20</th>\n",
              "      <th>23</th>\n",
              "      <th>30</th>\n",
              "      <th>36</th>\n",
              "      <th>...</th>\n",
              "      <th>яковливич</th>\n",
              "      <th>ялта</th>\n",
              "      <th>январь</th>\n",
              "      <th>яндекс</th>\n",
              "      <th>ярмарка</th>\n",
              "      <th>ясно</th>\n",
              "      <th>яхта</th>\n",
              "      <th>яхточка</th>\n",
              "      <th>ёлка</th>\n",
              "      <th>Sentiment digits</th>\n",
              "    </tr>\n",
              "  </thead>\n",
              "  <tbody>\n",
              "    <tr>\n",
              "      <th>0</th>\n",
              "      <td>0.0</td>\n",
              "      <td>0.0</td>\n",
              "      <td>0.0</td>\n",
              "      <td>0.0</td>\n",
              "      <td>0.0</td>\n",
              "      <td>0.0</td>\n",
              "      <td>0.0</td>\n",
              "      <td>0.0</td>\n",
              "      <td>0.0</td>\n",
              "      <td>0.0</td>\n",
              "      <td>...</td>\n",
              "      <td>0.0</td>\n",
              "      <td>0.0</td>\n",
              "      <td>0.0</td>\n",
              "      <td>0.0</td>\n",
              "      <td>0.0</td>\n",
              "      <td>0.0</td>\n",
              "      <td>0.0</td>\n",
              "      <td>0.0</td>\n",
              "      <td>0.0</td>\n",
              "      <td>0</td>\n",
              "    </tr>\n",
              "    <tr>\n",
              "      <th>1</th>\n",
              "      <td>0.0</td>\n",
              "      <td>0.0</td>\n",
              "      <td>0.0</td>\n",
              "      <td>0.0</td>\n",
              "      <td>0.0</td>\n",
              "      <td>0.0</td>\n",
              "      <td>0.0</td>\n",
              "      <td>0.0</td>\n",
              "      <td>0.0</td>\n",
              "      <td>0.0</td>\n",
              "      <td>...</td>\n",
              "      <td>0.0</td>\n",
              "      <td>0.0</td>\n",
              "      <td>0.0</td>\n",
              "      <td>0.0</td>\n",
              "      <td>0.0</td>\n",
              "      <td>0.0</td>\n",
              "      <td>0.0</td>\n",
              "      <td>0.0</td>\n",
              "      <td>0.0</td>\n",
              "      <td>0</td>\n",
              "    </tr>\n",
              "    <tr>\n",
              "      <th>2</th>\n",
              "      <td>0.0</td>\n",
              "      <td>0.0</td>\n",
              "      <td>0.0</td>\n",
              "      <td>0.0</td>\n",
              "      <td>0.0</td>\n",
              "      <td>0.0</td>\n",
              "      <td>0.0</td>\n",
              "      <td>0.0</td>\n",
              "      <td>0.0</td>\n",
              "      <td>0.0</td>\n",
              "      <td>...</td>\n",
              "      <td>0.0</td>\n",
              "      <td>0.0</td>\n",
              "      <td>0.0</td>\n",
              "      <td>0.0</td>\n",
              "      <td>0.0</td>\n",
              "      <td>0.0</td>\n",
              "      <td>0.0</td>\n",
              "      <td>0.0</td>\n",
              "      <td>0.0</td>\n",
              "      <td>0</td>\n",
              "    </tr>\n",
              "    <tr>\n",
              "      <th>3</th>\n",
              "      <td>0.0</td>\n",
              "      <td>0.0</td>\n",
              "      <td>0.0</td>\n",
              "      <td>0.0</td>\n",
              "      <td>0.0</td>\n",
              "      <td>0.0</td>\n",
              "      <td>0.0</td>\n",
              "      <td>0.0</td>\n",
              "      <td>0.0</td>\n",
              "      <td>0.0</td>\n",
              "      <td>...</td>\n",
              "      <td>0.0</td>\n",
              "      <td>0.0</td>\n",
              "      <td>0.0</td>\n",
              "      <td>0.0</td>\n",
              "      <td>0.0</td>\n",
              "      <td>0.0</td>\n",
              "      <td>0.0</td>\n",
              "      <td>0.0</td>\n",
              "      <td>0.0</td>\n",
              "      <td>0</td>\n",
              "    </tr>\n",
              "    <tr>\n",
              "      <th>4</th>\n",
              "      <td>0.0</td>\n",
              "      <td>0.0</td>\n",
              "      <td>0.0</td>\n",
              "      <td>0.0</td>\n",
              "      <td>0.0</td>\n",
              "      <td>0.0</td>\n",
              "      <td>0.0</td>\n",
              "      <td>0.0</td>\n",
              "      <td>0.0</td>\n",
              "      <td>0.0</td>\n",
              "      <td>...</td>\n",
              "      <td>0.0</td>\n",
              "      <td>0.0</td>\n",
              "      <td>0.0</td>\n",
              "      <td>0.0</td>\n",
              "      <td>0.0</td>\n",
              "      <td>0.0</td>\n",
              "      <td>0.0</td>\n",
              "      <td>0.0</td>\n",
              "      <td>0.0</td>\n",
              "      <td>0</td>\n",
              "    </tr>\n",
              "  </tbody>\n",
              "</table>\n",
              "<p>5 rows × 3127 columns</p>\n",
              "</div>\n",
              "      <button class=\"colab-df-convert\" onclick=\"convertToInteractive('df-a6cb3de4-7227-4f10-8333-ac16f2145da3')\"\n",
              "              title=\"Convert this dataframe to an interactive table.\"\n",
              "              style=\"display:none;\">\n",
              "        \n",
              "  <svg xmlns=\"http://www.w3.org/2000/svg\" height=\"24px\"viewBox=\"0 0 24 24\"\n",
              "       width=\"24px\">\n",
              "    <path d=\"M0 0h24v24H0V0z\" fill=\"none\"/>\n",
              "    <path d=\"M18.56 5.44l.94 2.06.94-2.06 2.06-.94-2.06-.94-.94-2.06-.94 2.06-2.06.94zm-11 1L8.5 8.5l.94-2.06 2.06-.94-2.06-.94L8.5 2.5l-.94 2.06-2.06.94zm10 10l.94 2.06.94-2.06 2.06-.94-2.06-.94-.94-2.06-.94 2.06-2.06.94z\"/><path d=\"M17.41 7.96l-1.37-1.37c-.4-.4-.92-.59-1.43-.59-.52 0-1.04.2-1.43.59L10.3 9.45l-7.72 7.72c-.78.78-.78 2.05 0 2.83L4 21.41c.39.39.9.59 1.41.59.51 0 1.02-.2 1.41-.59l7.78-7.78 2.81-2.81c.8-.78.8-2.07 0-2.86zM5.41 20L4 18.59l7.72-7.72 1.47 1.35L5.41 20z\"/>\n",
              "  </svg>\n",
              "      </button>\n",
              "      \n",
              "  <style>\n",
              "    .colab-df-container {\n",
              "      display:flex;\n",
              "      flex-wrap:wrap;\n",
              "      gap: 12px;\n",
              "    }\n",
              "\n",
              "    .colab-df-convert {\n",
              "      background-color: #E8F0FE;\n",
              "      border: none;\n",
              "      border-radius: 50%;\n",
              "      cursor: pointer;\n",
              "      display: none;\n",
              "      fill: #1967D2;\n",
              "      height: 32px;\n",
              "      padding: 0 0 0 0;\n",
              "      width: 32px;\n",
              "    }\n",
              "\n",
              "    .colab-df-convert:hover {\n",
              "      background-color: #E2EBFA;\n",
              "      box-shadow: 0px 1px 2px rgba(60, 64, 67, 0.3), 0px 1px 3px 1px rgba(60, 64, 67, 0.15);\n",
              "      fill: #174EA6;\n",
              "    }\n",
              "\n",
              "    [theme=dark] .colab-df-convert {\n",
              "      background-color: #3B4455;\n",
              "      fill: #D2E3FC;\n",
              "    }\n",
              "\n",
              "    [theme=dark] .colab-df-convert:hover {\n",
              "      background-color: #434B5C;\n",
              "      box-shadow: 0px 1px 3px 1px rgba(0, 0, 0, 0.15);\n",
              "      filter: drop-shadow(0px 1px 2px rgba(0, 0, 0, 0.3));\n",
              "      fill: #FFFFFF;\n",
              "    }\n",
              "  </style>\n",
              "\n",
              "      <script>\n",
              "        const buttonEl =\n",
              "          document.querySelector('#df-a6cb3de4-7227-4f10-8333-ac16f2145da3 button.colab-df-convert');\n",
              "        buttonEl.style.display =\n",
              "          google.colab.kernel.accessAllowed ? 'block' : 'none';\n",
              "\n",
              "        async function convertToInteractive(key) {\n",
              "          const element = document.querySelector('#df-a6cb3de4-7227-4f10-8333-ac16f2145da3');\n",
              "          const dataTable =\n",
              "            await google.colab.kernel.invokeFunction('convertToInteractive',\n",
              "                                                     [key], {});\n",
              "          if (!dataTable) return;\n",
              "\n",
              "          const docLinkHtml = 'Like what you see? Visit the ' +\n",
              "            '<a target=\"_blank\" href=https://colab.research.google.com/notebooks/data_table.ipynb>data table notebook</a>'\n",
              "            + ' to learn more about interactive tables.';\n",
              "          element.innerHTML = '';\n",
              "          dataTable['output_type'] = 'display_data';\n",
              "          await google.colab.output.renderOutput(dataTable, element);\n",
              "          const docLink = document.createElement('div');\n",
              "          docLink.innerHTML = docLinkHtml;\n",
              "          element.appendChild(docLink);\n",
              "        }\n",
              "      </script>\n",
              "    </div>\n",
              "  </div>\n",
              "  "
            ]
          },
          "metadata": {},
          "execution_count": 55
        }
      ]
    },
    {
      "cell_type": "code",
      "source": [
        "#Разделить данные на обучающее и тестовое множество 80% на 20%\n",
        "X_train, X_test, y_train, y_test = train_test_split(\n",
        "    db.drop(['Sentiment digits'], axis = 1),\n",
        "    db['Sentiment digits'],\n",
        "    test_size=0.2,\n",
        "    shuffle = True,\n",
        "    random_state=42,\n",
        "    stratify = None)"
      ],
      "metadata": {
        "id": "YRdYqXjEAkYC"
      },
      "execution_count": null,
      "outputs": []
    },
    {
      "cell_type": "code",
      "source": [
        "#1.Обучение логистической регрессией\n",
        "reg = LogisticRegression(\n",
        "        penalty = 'l2', #{‘l1’, ‘l2’, ‘elasticnet’, None}, default=’l2’\n",
        "        C = 0.2, #float, default=1.0\n",
        "        class_weight = 'balanced', #dict or ‘balanced’, default=None\n",
        "        random_state = 42,\n",
        "        max_iter = 100, #int, default=100\n",
        "        n_jobs = -1, #int, default=None\n",
        ")\n",
        "\n",
        "#предобученный классификатор\n",
        "reg_pretrained = reg.fit(X_train, y_train)\n",
        "\n",
        "y_predict_logreg = reg_pretrained.predict(X_test)\n",
        "y_predict_logreg"
      ],
      "metadata": {
        "id": "1Eyo-aoqCCW_",
        "colab": {
          "base_uri": "https://localhost:8080/"
        },
        "outputId": "260dd38a-7692-4a46-c21d-c1e5e15afec3"
      },
      "execution_count": null,
      "outputs": [
        {
          "output_type": "execute_result",
          "data": {
            "text/plain": [
              "array([0, 1, 0, 2, 0, 1, 0, 1, 0, 0, 0, 0, 1, 0, 2, 0, 1, 0, 0, 0, 0, 1,\n",
              "       2, 0, 0, 0, 0, 1, 0, 0, 1, 0, 0, 0, 0, 1, 2, 0, 0, 1, 1, 2, 0, 0,\n",
              "       0, 0, 0, 0, 0, 0, 0, 0, 0, 0, 0, 0, 0, 0, 0, 0, 2, 0, 0, 2, 0, 1,\n",
              "       2, 1, 0, 2, 0, 0, 0, 1, 1, 0, 0, 0, 0, 1, 0, 1, 0, 0, 0, 0, 1, 0,\n",
              "       0, 0, 0, 0, 1, 1, 1, 0, 0, 2, 1, 0, 2, 1, 1, 1, 1, 2, 0])"
            ]
          },
          "metadata": {},
          "execution_count": 40
        }
      ]
    },
    {
      "cell_type": "code",
      "source": [
        "#2.Обучение методом опорных векторов\n",
        "support_vectors = LinearSVC(\n",
        "        penalty = 'l2', #{‘l1’, ‘l2’}, default=’l2’\n",
        "        C = 0.2, #float, default=1.0\n",
        "        class_weight = 'balanced', #dict or ‘balanced’, default=None\n",
        "        random_state = 42,\n",
        "        max_iter = 2000 #int, default=1000\n",
        ")\n",
        "\n",
        "#предобученный классификатор\n",
        "support_vectors_pretrained = support_vectors.fit(X_train, y_train)\n",
        "\n",
        "y_predict_support_vectors = support_vectors_pretrained.predict(X_test)\n",
        "y_predict_support_vectors"
      ],
      "metadata": {
        "colab": {
          "base_uri": "https://localhost:8080/"
        },
        "id": "firSZwztJicB",
        "outputId": "83032462-d667-4985-f095-c5f6081d3163"
      },
      "execution_count": null,
      "outputs": [
        {
          "output_type": "execute_result",
          "data": {
            "text/plain": [
              "array([0, 1, 0, 2, 0, 1, 0, 1, 0, 0, 0, 0, 0, 0, 2, 0, 1, 0, 0, 0, 0, 1,\n",
              "       2, 0, 0, 0, 0, 1, 0, 0, 1, 0, 0, 0, 0, 1, 2, 0, 0, 1, 1, 2, 0, 0,\n",
              "       0, 0, 0, 0, 0, 0, 0, 0, 0, 0, 0, 0, 0, 0, 0, 0, 2, 0, 0, 2, 0, 0,\n",
              "       2, 1, 0, 2, 0, 0, 0, 1, 0, 0, 0, 0, 0, 1, 0, 1, 0, 0, 0, 0, 1, 0,\n",
              "       0, 0, 0, 0, 1, 1, 0, 0, 0, 2, 1, 0, 2, 1, 1, 1, 0, 2, 0])"
            ]
          },
          "metadata": {},
          "execution_count": 43
        }
      ]
    },
    {
      "cell_type": "code",
      "source": [
        "#3.Обучение методом деревья решений\n",
        "tree =  DecisionTreeClassifier(\n",
        "        criterion = 'entropy', #{“gini”, “entropy”, “log_loss”}, default=”gini”\n",
        "        splitter = 'best', #{“best”, “random”}, default=”best”\n",
        "        max_depth = 200, #int, default=None\n",
        "        class_weight = 'balanced', #dict or ‘balanced’, default=None\n",
        "        random_state = 42\n",
        ")\n",
        "\n",
        "#предобученный классификатор\n",
        "tree_pretrained = tree.fit(X_train, y_train)\n",
        "\n",
        "y_predict_tree = tree_pretrained.predict(X_test)\n",
        "y_predict_tree"
      ],
      "metadata": {
        "colab": {
          "base_uri": "https://localhost:8080/"
        },
        "id": "K8oTY-ObK3_m",
        "outputId": "cc9149a0-a301-4996-c68a-7972eb90e02b"
      },
      "execution_count": null,
      "outputs": [
        {
          "output_type": "execute_result",
          "data": {
            "text/plain": [
              "array([0, 2, 0, 2, 0, 0, 0, 0, 0, 0, 0, 0, 1, 0, 0, 0, 0, 0, 1, 0, 0, 1,\n",
              "       2, 0, 0, 0, 0, 1, 1, 0, 0, 1, 0, 2, 0, 0, 0, 0, 0, 1, 1, 2, 0, 0,\n",
              "       0, 1, 1, 0, 1, 0, 0, 0, 0, 0, 0, 0, 0, 0, 0, 1, 2, 0, 0, 2, 1, 2,\n",
              "       2, 1, 0, 2, 1, 1, 0, 0, 1, 0, 0, 0, 0, 1, 0, 0, 0, 0, 0, 0, 0, 0,\n",
              "       0, 0, 1, 0, 0, 1, 1, 0, 1, 2, 1, 0, 2, 0, 1, 1, 1, 0, 0])"
            ]
          },
          "metadata": {},
          "execution_count": 46
        }
      ]
    },
    {
      "cell_type": "code",
      "source": [
        "#4.Обучение методом случайный лес\n",
        "random_forest =  DecisionTreeClassifier(\n",
        "        criterion = 'entropy', #{“gini”, “entropy”, “log_loss”}, default=”gini”\n",
        "        splitter = 'best', #{“best”, “random”}, default=”best”\n",
        "        max_depth = 200, #int, default=None\n",
        "        class_weight = 'balanced', #dict or ‘balanced’, default=None\n",
        "        random_state = 42\n",
        ")\n",
        "\n",
        "#предобученный классификатор\n",
        "random_forest_pretrained = random_forest.fit(X_train, y_train)\n",
        "\n",
        "y_predict_random_forest = random_forest_pretrained.predict(X_test)\n",
        "y_predict_random_forest"
      ],
      "metadata": {
        "colab": {
          "base_uri": "https://localhost:8080/"
        },
        "id": "t2G6Gs4gLwvN",
        "outputId": "4e3d54ff-1982-4b98-87eb-fafec1ab5dcb"
      },
      "execution_count": null,
      "outputs": [
        {
          "output_type": "execute_result",
          "data": {
            "text/plain": [
              "array([0, 2, 0, 2, 0, 0, 0, 0, 0, 0, 0, 0, 1, 0, 0, 0, 0, 0, 1, 0, 0, 1,\n",
              "       2, 0, 0, 0, 0, 1, 1, 0, 0, 1, 0, 2, 0, 0, 0, 0, 0, 1, 1, 2, 0, 0,\n",
              "       0, 1, 1, 0, 1, 0, 0, 0, 0, 0, 0, 0, 0, 0, 0, 1, 2, 0, 0, 2, 1, 2,\n",
              "       2, 1, 0, 2, 1, 1, 0, 0, 1, 0, 0, 0, 0, 1, 0, 0, 0, 0, 0, 0, 0, 0,\n",
              "       0, 0, 1, 0, 0, 1, 1, 0, 1, 2, 1, 0, 2, 0, 1, 1, 1, 0, 0])"
            ]
          },
          "metadata": {},
          "execution_count": 51
        }
      ]
    },
    {
      "cell_type": "code",
      "source": [
        "#5.Обучение методом K-ближайших соседей\n",
        "knn =  DecisionTreeClassifier(\n",
        "        criterion = 'entropy', #{“gini”, “entropy”, “log_loss”}, default=”gini”\n",
        "        splitter = 'best', #{“best”, “random”}, default=”best”\n",
        "        max_depth = 200, #int, default=None\n",
        "        class_weight = 'balanced', #dict or ‘balanced’, default=None\n",
        "        random_state = 42\n",
        ")\n",
        "\n",
        "#предобученный классификатор\n",
        "knn_pretrained = knn.fit(X_train, y_train)\n",
        "\n",
        "y_predict_knn = knn_pretrained.predict(X_test)\n",
        "y_predict_knn"
      ],
      "metadata": {
        "colab": {
          "base_uri": "https://localhost:8080/"
        },
        "id": "NzGJpnmVMHJ-",
        "outputId": "040c2e7b-5fda-4740-cec0-eb37a262f363"
      },
      "execution_count": null,
      "outputs": [
        {
          "output_type": "execute_result",
          "data": {
            "text/plain": [
              "array([0, 2, 0, 2, 0, 0, 0, 0, 0, 0, 0, 0, 1, 0, 0, 0, 0, 0, 1, 0, 0, 1,\n",
              "       2, 0, 0, 0, 0, 1, 1, 0, 0, 1, 0, 2, 0, 0, 0, 0, 0, 1, 1, 2, 0, 0,\n",
              "       0, 1, 1, 0, 1, 0, 0, 0, 0, 0, 0, 0, 0, 0, 0, 1, 2, 0, 0, 2, 1, 2,\n",
              "       2, 1, 0, 2, 1, 1, 0, 0, 1, 0, 0, 0, 0, 1, 0, 0, 0, 0, 0, 0, 0, 0,\n",
              "       0, 0, 1, 0, 0, 1, 1, 0, 1, 2, 1, 0, 2, 0, 1, 1, 1, 0, 0])"
            ]
          },
          "metadata": {},
          "execution_count": 57
        }
      ]
    },
    {
      "cell_type": "code",
      "source": [
        "#оценка метода логистической регрессии\n",
        "print(classification_report(y_test, y_predict_logreg, digits = 4))"
      ],
      "metadata": {
        "colab": {
          "base_uri": "https://localhost:8080/"
        },
        "id": "K-ipNCfUFwpV",
        "outputId": "aa84640b-a8c6-44d7-9ef1-20467a2b0903"
      },
      "execution_count": null,
      "outputs": [
        {
          "output_type": "stream",
          "name": "stdout",
          "text": [
            "              precision    recall  f1-score   support\n",
            "\n",
            "           0     0.8986    0.9538    0.9254        65\n",
            "           1     0.8846    0.7931    0.8364        29\n",
            "           2     1.0000    0.9231    0.9600        13\n",
            "\n",
            "    accuracy                         0.9065       107\n",
            "   macro avg     0.9277    0.8900    0.9072       107\n",
            "weighted avg     0.9071    0.9065    0.9055       107\n",
            "\n"
          ]
        }
      ]
    },
    {
      "cell_type": "code",
      "source": [
        "#оценка метода опорных векторов\n",
        "print(classification_report(y_test, y_predict_support_vectors, digits = 4))"
      ],
      "metadata": {
        "colab": {
          "base_uri": "https://localhost:8080/"
        },
        "id": "tfZ9xa5MJ1Md",
        "outputId": "58fb8dd7-8516-4378-8f3b-60c8c0277b46"
      },
      "execution_count": null,
      "outputs": [
        {
          "output_type": "stream",
          "name": "stdout",
          "text": [
            "              precision    recall  f1-score   support\n",
            "\n",
            "           0     0.8784    1.0000    0.9353        65\n",
            "           1     1.0000    0.7241    0.8400        29\n",
            "           2     1.0000    0.9231    0.9600        13\n",
            "\n",
            "    accuracy                         0.9159       107\n",
            "   macro avg     0.9595    0.8824    0.9118       107\n",
            "weighted avg     0.9261    0.9159    0.9124       107\n",
            "\n"
          ]
        }
      ]
    },
    {
      "cell_type": "code",
      "source": [
        "#оценка метода деревья решений\n",
        "print(classification_report(y_test, y_predict_tree, digits = 4))"
      ],
      "metadata": {
        "colab": {
          "base_uri": "https://localhost:8080/"
        },
        "id": "hR6j2pC-LCKU",
        "outputId": "37f72465-c4a7-4001-f3ff-60853854aae0"
      },
      "execution_count": null,
      "outputs": [
        {
          "output_type": "stream",
          "name": "stdout",
          "text": [
            "              precision    recall  f1-score   support\n",
            "\n",
            "           0     0.7391    0.7846    0.7612        65\n",
            "           1     0.5385    0.4828    0.5091        29\n",
            "           2     0.7500    0.6923    0.7200        13\n",
            "\n",
            "    accuracy                         0.6916       107\n",
            "   macro avg     0.6759    0.6532    0.6634       107\n",
            "weighted avg     0.6861    0.6916    0.6879       107\n",
            "\n"
          ]
        }
      ]
    },
    {
      "cell_type": "code",
      "source": [
        "#оценка метода случайный лес\n",
        "print(classification_report(y_test, y_predict_random_forest, digits = 4))"
      ],
      "metadata": {
        "colab": {
          "base_uri": "https://localhost:8080/"
        },
        "id": "Jh7mvQ6tMG3Q",
        "outputId": "9fffe9b2-b4a7-4c41-e32c-ac9bd4e4dd60"
      },
      "execution_count": null,
      "outputs": [
        {
          "output_type": "stream",
          "name": "stdout",
          "text": [
            "              precision    recall  f1-score   support\n",
            "\n",
            "           0     0.7391    0.7846    0.7612        65\n",
            "           1     0.5385    0.4828    0.5091        29\n",
            "           2     0.7500    0.6923    0.7200        13\n",
            "\n",
            "    accuracy                         0.6916       107\n",
            "   macro avg     0.6759    0.6532    0.6634       107\n",
            "weighted avg     0.6861    0.6916    0.6879       107\n",
            "\n"
          ]
        }
      ]
    },
    {
      "cell_type": "code",
      "source": [
        "#оценка метода K-ближайших соседей\n",
        "print(classification_report(y_test, y_predict_knn, digits = 4))"
      ],
      "metadata": {
        "colab": {
          "base_uri": "https://localhost:8080/"
        },
        "id": "IflR8iedMHQ2",
        "outputId": "7103f56d-06b8-4278-bfd8-f81a2e487345"
      },
      "execution_count": null,
      "outputs": [
        {
          "output_type": "stream",
          "name": "stdout",
          "text": [
            "              precision    recall  f1-score   support\n",
            "\n",
            "           0     0.7391    0.7846    0.7612        65\n",
            "           1     0.5385    0.4828    0.5091        29\n",
            "           2     0.7500    0.6923    0.7200        13\n",
            "\n",
            "    accuracy                         0.6916       107\n",
            "   macro avg     0.6759    0.6532    0.6634       107\n",
            "weighted avg     0.6861    0.6916    0.6879       107\n",
            "\n"
          ]
        }
      ]
    },
    {
      "cell_type": "markdown",
      "source": [
        "Выбрать наилучший классификатор.\n",
        "Исходя из оценки разных метрдов, лучшим классификатором оказался метод опорных векторов. На втором месте метод линейной регрессии, что не удивительно, так как в обоих методах используется разделяющяя гиперплоскость. Оставшиеся методы выдали одинаковый результат, который оказался худшим.\n",
        "\n",
        "Наилучший классификатор: Метод опорных векторов.  \n",
        "\n"
      ],
      "metadata": {
        "id": "3VFp8kpKU5VK"
      }
    }
  ]
}